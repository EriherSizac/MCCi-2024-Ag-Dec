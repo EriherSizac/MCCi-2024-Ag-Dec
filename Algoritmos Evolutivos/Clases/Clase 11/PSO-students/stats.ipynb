{
 "cells": [
  {
   "cell_type": "code",
   "execution_count": 2,
   "metadata": {},
   "outputs": [],
   "source": [
    "import math\n",
    "\n",
    "def compute_statistics(data, sample=True):\n",
    "    \"\"\"\n",
    "    Calculate the mean, variance, and standard deviation of a list of numbers.\n",
    "\n",
    "    Parameters:\n",
    "    - data: List of numerical values.\n",
    "    - sample (bool): If True, calculates sample variance and standard deviation (n-1 in denominator).\n",
    "                     If False, calculates population variance and standard deviation (n in denominator).\n",
    "\n",
    "    Returns:\n",
    "    - mean: The average of the data.\n",
    "    - variance: The variance of the data.\n",
    "    - std_dev: The standard deviation of the data.\n",
    "    \"\"\"\n",
    "    n = len(data)\n",
    "    if n == 0:\n",
    "        raise ValueError(\"The data list is empty.\")\n",
    "\n",
    "    mean = sum(data) / n\n",
    "\n",
    "    if sample and n > 1:\n",
    "        variance = sum((x - mean) ** 2 for x in data) / (n - 1)\n",
    "    else:\n",
    "        variance = sum((x - mean) ** 2 for x in data) / n\n",
    "\n",
    "    std_dev = math.sqrt(variance)\n",
    "\n",
    "    return mean, variance, std_dev\n"
   ]
  },
  {
   "cell_type": "code",
   "execution_count": 3,
   "metadata": {},
   "outputs": [
    {
     "name": "stdout",
     "output_type": "stream",
     "text": [
      "\n",
      "Mean: 0.32419238241867365\n",
      "Population Variance: 0.10174648708886566\n",
      "Population Standard Deviation: 0.3189772516792783\n"
     ]
    }
   ],
   "source": [
    "# Example usage:\n",
    "data = [0.17681475669001517,\n",
    "0.15822080610549272,\n",
    "0.2582825755493045,\n",
    "0.7250452044771843,\n",
    "0.43708637919775034,\n",
    "0.1998750574425591,\n",
    "0.5101421167006843,\n",
    "0.08456857799235362,\n",
    "0.03600236813430762,\n",
    "0.014094709482584653,\n",
    "0.40736316246831994,\n",
    "0.5438454211040331,\n",
    "1.0197539267903415,\n",
    "0.2836626141369843,\n",
    "0.0416831999548669,\n",
    "0.31148130495043613,\n",
    "0.2702716556184672,\n",
    "1.2245770408097796,\n",
    "0.037977550629898556,\n",
    "0.0432583854004497,\n",
    "0.4461964668625116,\n",
    "0.04398936628567886,\n",
    "0.1808301928872259,\n",
    "0.04155597468917563,\n",
    "0.7153091427167506,\n",
    "0.0036603760196392728,\n",
    "0.0749703892655548,\n",
    "0.01443385828562396,\n",
    "0.5730708537678725,\n",
    "0.8477480381443638]\n",
    "\n",
    "# For population statistics, set sample=False\n",
    "mean, variance, std_dev = compute_statistics(data, sample=False)\n",
    "print(f\"\\nMean: {mean}\")\n",
    "print(f\"Population Variance: {variance}\")\n",
    "print(f\"Population Standard Deviation: {std_dev}\")"
   ]
  },
  {
   "cell_type": "code",
   "execution_count": 4,
   "metadata": {},
   "outputs": [
    {
     "name": "stdout",
     "output_type": "stream",
     "text": [
      "\n",
      "Mean: 4.668955054338066\n",
      "Population Variance: 4.8240950695242075\n",
      "Population Standard Deviation: 2.196382268532554\n"
     ]
    }
   ],
   "source": [
    "# Example usage:\n",
    "data = [0.5072574932468115,\n",
    "5.577379047240431,\n",
    "2.740585183838803,\n",
    "8.955957633893808,\n",
    "3.2595243161909835,\n",
    "2.041429478111283,\n",
    "4.398268168048434,\n",
    "4.442958050912466,\n",
    "1.1759924875588084,\n",
    "3.827711615340146,\n",
    "3.073531549231859,\n",
    "1.9606403986582848,\n",
    "10.294703844981672,\n",
    "3.6027596187618727,\n",
    "5.027269718275992,\n",
    "7.358838400818563,\n",
    "2.6164505383555756,\n",
    "6.510806576419617,\n",
    "5.301467415026144,\n",
    "5.755524916752947,\n",
    "5.439772499099549,\n",
    "3.089488042527112,\n",
    "4.41859115066913,\n",
    "5.389083404425618,\n",
    "4.37990028337499,\n",
    "8.008193780529698,\n",
    "3.2988268975824937,\n",
    "5.288064503610183,\n",
    "5.239810803800555,\n",
    "7.087863812858162]\n",
    "\n",
    "# For population statistics, set sample=False\n",
    "mean, variance, std_dev = compute_statistics(data, sample=False)\n",
    "print(f\"\\nMean: {mean}\")\n",
    "print(f\"Population Variance: {variance}\")\n",
    "print(f\"Population Standard Deviation: {std_dev}\")"
   ]
  },
  {
   "cell_type": "code",
   "execution_count": 5,
   "metadata": {},
   "outputs": [
    {
     "name": "stdout",
     "output_type": "stream",
     "text": [
      "\n",
      "Mean: 18.934459334520245\n",
      "Population Variance: 1318.252670830379\n",
      "Population Standard Deviation: 36.307749459728\n"
     ]
    }
   ],
   "source": [
    "# Example usage:\n",
    "data = [10.402894539058693,\n",
    "19.365370216797114,\n",
    "0.03461960181144045,\n",
    "8.190807726145145,\n",
    "11.95564635928011,\n",
    "30.403687387155365,\n",
    "44.96394241679229,\n",
    "0.2484352808923903,\n",
    "16.558298623573947,\n",
    "0.38652381991010987,\n",
    "7.589227848696305,\n",
    "19.363540936878685,\n",
    "8.95063475741284,\n",
    "10.755584872514596,\n",
    "14.839397951102535,\n",
    "1.5057128939809736,\n",
    "6.804109212696627,\n",
    "1.3221062380406432,\n",
    "113.27496971522815,\n",
    "0.7180095238052052,\n",
    "0.3138269436384861,\n",
    "1.18238643505975,\n",
    "11.15442795133196,\n",
    "178.5955226775905,\n",
    "3.4037901241129664,\n",
    "20.680319015027973,\n",
    "10.122793707442803,\n",
    "2.957172885788638,\n",
    "3.3521422685947746,\n",
    "8.637878105246294]\n",
    "\n",
    "# For population statistics, set sample=False\n",
    "mean, variance, std_dev = compute_statistics(data, sample=False)\n",
    "print(f\"\\nMean: {mean}\")\n",
    "print(f\"Population Variance: {variance}\")\n",
    "print(f\"Population Standard Deviation: {std_dev}\")"
   ]
  }
 ],
 "metadata": {
  "kernelspec": {
   "display_name": "Python 3",
   "language": "python",
   "name": "python3"
  },
  "language_info": {
   "codemirror_mode": {
    "name": "ipython",
    "version": 3
   },
   "file_extension": ".py",
   "mimetype": "text/x-python",
   "name": "python",
   "nbconvert_exporter": "python",
   "pygments_lexer": "ipython3",
   "version": "3.10.8"
  }
 },
 "nbformat": 4,
 "nbformat_minor": 2
}
