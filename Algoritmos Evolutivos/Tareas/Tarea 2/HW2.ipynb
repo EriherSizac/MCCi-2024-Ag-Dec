{
 "cells": [
  {
   "cell_type": "code",
   "execution_count": 53,
   "metadata": {},
   "outputs": [],
   "source": [
    "import numpy as np\n",
    "\n",
    "from typing import Callable"
   ]
  },
  {
   "cell_type": "markdown",
   "metadata": {},
   "source": [
    "# Encoding."
   ]
  },
  {
   "cell_type": "code",
   "execution_count": 54,
   "metadata": {},
   "outputs": [],
   "source": [
    "def binary_encode(val: float) -> list[int]:\n",
    "  precision: int = 4;\n",
    "\n",
    "  # Separate int and float parts\n",
    "  int_part: int = int(val);\n",
    "  float_part: float = val - int_part;\n",
    "\n",
    "  # Convert int part to binary\n",
    "  bin_int: str = bin(int_part)[2:];\n",
    "\n",
    "  # Convert float part to binary using 4-digits of precision\n",
    "  bin_float: str = \"\";\n",
    "  while precision > 0:\n",
    "    float_part *= 2;\n",
    "    bit: int = int(float_part);\n",
    "    bin_float += str(bit);\n",
    "    float_part -= bit;\n",
    "    precision -= 1;\n",
    "  \n",
    "  # Combine int and float parts into final array\n",
    "  bin_val: list[int] = [int(bit) for bit in bin_int + bin_float];\n",
    "\n",
    "  # Handle negative numbers\n",
    "  if val < 0:\n",
    "    bin_val.insert(0, 1)\n",
    "  else:\n",
    "    bin_val.insert(0, 0)\n",
    "\n",
    "  return bin_val;"
   ]
  },
  {
   "cell_type": "code",
   "execution_count": 55,
   "metadata": {},
   "outputs": [],
   "source": [
    "def binary_decode(bin_arr: list[int]) -> float:\n",
    "  precision: int = 4;\n",
    "  sign: int = -1 if bin_arr.pop(0) == 1 else 1;\n",
    "  \n",
    "  # Split binary array into its int and float parts\n",
    "  int_size: int = len(bin_arr) - precision;\n",
    "  bin_int: list[int] = bin_arr[:int_size];\n",
    "  bin_float: list[int] = bin_arr[int_size:];\n",
    "\n",
    "  # Convert int part to decimal\n",
    "  int_part: int = 0;\n",
    "  for i, bit in enumerate(reversed(bin_int)):\n",
    "    int_part += bit * (2 ** i);\n",
    "  \n",
    "  # Convert float part to decimal\n",
    "  float_part: float = 0.0;\n",
    "  for i, bit in enumerate(bin_float):\n",
    "    float_part += bit * (2 ** -(i + 1));\n",
    "  \n",
    "  # Combine int and float parts\n",
    "  dec_val: float = sign * (int_part + float_part);\n",
    "\n",
    "  return dec_val;"
   ]
  },
  {
   "cell_type": "code",
   "execution_count": 56,
   "metadata": {},
   "outputs": [
    {
     "name": "stdout",
     "output_type": "stream",
     "text": [
      "Original value is 23.6875\n",
      "Value after binary encoding: [0, 1, 0, 1, 1, 1, 1, 0, 1, 1]\n",
      "Value after decoding binary representation: 23.6875\n"
     ]
    }
   ],
   "source": [
    "# Test binary encoding and decoding\n",
    "dec_val: float = 23.6875;\n",
    "print(f'Original value is {dec_val}');\n",
    "\n",
    "bin_rep: list[int] = binary_encode(dec_val);\n",
    "print(f'Value after binary encoding: {bin_rep}');\n",
    "\n",
    "decoded_bin_rep: float = binary_decode(bin_rep);\n",
    "print(f'Value after decoding binary representation: {decoded_bin_rep}');"
   ]
  },
  {
   "cell_type": "code",
   "execution_count": 43,
   "metadata": {},
   "outputs": [],
   "source": [
    "def real_encode(val: float) -> list[int]:\n",
    "  precision: int = 4;\n",
    "\n",
    "  # Round decimal value to 4-digit precision\n",
    "  round_val: float = round(val, precision);\n",
    "\n",
    "  # Scale value to an int\n",
    "  scaled_val: int = int(round_val * (10 ** precision));\n",
    "\n",
    "  # Convert into real representation\n",
    "  real_rep: list[int] = [int(digit) for digit in str(abs(scaled_val))];\n",
    "\n",
    "  # Handle negative numbers\n",
    "  if val < 0:\n",
    "    real_rep.insert(0, 1)\n",
    "  else:\n",
    "    real_rep.insert(0, 0)\n",
    "\n",
    "  return real_rep;"
   ]
  },
  {
   "cell_type": "code",
   "execution_count": 41,
   "metadata": {},
   "outputs": [],
   "source": [
    "def real_decode(real_arr: list[int]) -> float:\n",
    "  precision: int = 4;\n",
    "  sign: int = -1 if real_arr.pop(0) == 1 else 1;\n",
    "\n",
    "  # Convert array into an int\n",
    "  scaled_int: int = int(''.join(map(str, real_arr)));\n",
    "\n",
    "  # Scale down to the original float\n",
    "  dec_val: float = sign * (scaled_int / (10 ** precision))\n",
    "\n",
    "  return dec_val;"
   ]
  },
  {
   "cell_type": "code",
   "execution_count": 45,
   "metadata": {},
   "outputs": [
    {
     "name": "stdout",
     "output_type": "stream",
     "text": [
      "Original value is -23.6875\n",
      "Value after real encoding: [1, 2, 3, 6, 8, 7, 5]\n",
      "Value after decoding real representation: -23.6875\n"
     ]
    }
   ],
   "source": [
    "# Test real encoding and decoding\n",
    "dec_val: float = -dec_val\n",
    "print(f'Original value is {dec_val}');\n",
    "\n",
    "real_rep: list[int] = real_encode(dec_val);\n",
    "print(f'Value after real encoding: {real_rep}');\n",
    "\n",
    "decoded_real_rep: float = real_decode(real_rep);\n",
    "print(f'Value after decoding real representation: {decoded_real_rep}');"
   ]
  },
  {
   "cell_type": "markdown",
   "metadata": {},
   "source": [
    "# Crossover."
   ]
  },
  {
   "cell_type": "markdown",
   "metadata": {},
   "source": [
    "# Mutation."
   ]
  },
  {
   "cell_type": "markdown",
   "metadata": {},
   "source": [
    "# Selection."
   ]
  },
  {
   "cell_type": "code",
   "execution_count": 48,
   "metadata": {},
   "outputs": [],
   "source": [
    "def roulette_wheel_selection(\n",
    "    population: list[list[list[int]]], \n",
    "    func: Callable[[list[list[int]]], float]\n",
    "  ) -> tuple[list[list[int]], float]:\n",
    "  # Compute fitness for each individual in the population\n",
    "  fitness_arr: list[float] = [func(individual) for individual in population];\n",
    "\n",
    "  # Compute cumulated fitness of the population\n",
    "  S: float = np.sum(fitness_arr);\n",
    "\n",
    "  # Compute probability and cumulated probability for each individual\n",
    "  probability_arr: list[float] = [fitness / S for fitness in fitness_arr];\n",
    "  cum_probability_arr: list[float] = np.cumsum(probability_arr);\n",
    "\n",
    "  # Obtain a random number in [0, 1]\n",
    "  r: float = np.random.random();\n",
    "\n",
    "  # Select the individual\n",
    "  for i, cum_probability in enumerate(cum_probability_arr):\n",
    "    if r <= cum_probability:\n",
    "      return population[i], func(population[i]);\n",
    "\n",
    "  # Return last individual if rounding error\n",
    "  return population[-1], func(population[-1]);"
   ]
  },
  {
   "cell_type": "code",
   "execution_count": 49,
   "metadata": {},
   "outputs": [],
   "source": [
    "def binary_tournament_selection(\n",
    "        population: list[list[list[int]]], \n",
    "        func: Callable[[list[list[int]]], float]\n",
    "    ) -> tuple[list[list[int]], float]:\n",
    "    # Perform tournament until one winner remains\n",
    "    while len(population) > 1:\n",
    "        winner_arr = []\n",
    "\n",
    "        # Perform selection in pairs\n",
    "        while len(population) > 1:\n",
    "            # Choose two individuals randomly without replacement\n",
    "            first_individual = np.random.choice(population)\n",
    "            population.remove(first_individual)\n",
    "\n",
    "            second_individual = np.random.choice(population)\n",
    "            population.remove(second_individual)\n",
    "\n",
    "            # Compare their fitness\n",
    "            if func(first_individual) > func(second_individual):\n",
    "                winner_arr.append(first_individual)\n",
    "            else:\n",
    "                winner_arr.append(second_individual)\n",
    "\n",
    "        # If odd number of individuals, advance the last individual automatically\n",
    "        if len(population) == 1:\n",
    "            winner_arr.append(population[0])\n",
    "        \n",
    "        # Set the population for the next round\n",
    "        population = winner_arr\n",
    "\n",
    "    # Return the last remaining winner\n",
    "    return population[0], func(population[0]);"
   ]
  },
  {
   "cell_type": "markdown",
   "metadata": {},
   "source": [
    "# Genetic Algorithm."
   ]
  },
  {
   "cell_type": "code",
   "execution_count": 57,
   "metadata": {},
   "outputs": [],
   "source": [
    "def simple_GA(\n",
    "    func: Callable[[list[list[int]]], float], \n",
    "    n: int,\n",
    "    up_bound: float, \n",
    "    low_bound: float, \n",
    "    encode_func: Callable[[float], list[int]], \n",
    "    decode_func: Callable[[list[int]], float], \n",
    "    selec_func: Callable[[list[list[list[int]]], Callable[[list[list[int]]], float]], tuple[list[list[int]], float]], \n",
    "    mu: int = 10,\n",
    "    fit_threshold: float = 0.001,\n",
    "    max_generations: int = 10000\n",
    "  ) -> list[float]:\n",
    "  generations: int = 0;\n",
    "\n",
    "  # Create initial population with mu individuals\n",
    "  initial_population: list[list[float]] = [];\n",
    "\n",
    "  for _ in range(mu):\n",
    "    # Generate n random numbers for initialization\n",
    "    random_numbers: list[float] = np.random.uniform(low_bound, up_bound, n);\n",
    "    initial_population.append(random_numbers);\n",
    "  \n",
    "  # Encode the numbers\n",
    "  encoded_reps: list[list[list[int]]] = [[encode_func(number) for number in individual] for individual in initial_population]\n",
    "\n",
    "  # Array to track last five generations fitness\n",
    "  gen_hist_fit: list[float] = [];\n",
    "  \n",
    "  while generations < max_generations:\n",
    "    generations += 1;\n",
    "\n",
    "    # Decode the representation\n",
    "    decoded_reps: list[list[float]] = [[decode_func(rep) for rep in individual] for individual in encoded_reps]\n",
    "\n",
    "    # Select two parents usign a selection mehcanism\n",
    "    first_parent, first_fit = selec_func(decoded_reps, func);\n",
    "    print(f'First selected parent is: {first_parent}');\n",
    "    decoded_reps.remove(first_parent);\n",
    "\n",
    "    second_parent, second_fit = selec_func(decoded_reps, func);\n",
    "    print(f'Second selected parent is: {second_parent}');\n",
    "    decoded_reps.remove(second_parent);\n",
    "\n",
    "    if len(gen_hist_fit) == 5:\n",
    "      # Replace fitness history if array exceeds 5 generations\n",
    "      gen_hist_fit.pop(0);\n",
    "\n",
    "      # Check for significant changes over the last 5 generations\n",
    "      delta: float = np.max(gen_hist_fit) - np.min(gen_hist_fit);\n",
    "      if delta < fit_threshold:\n",
    "        print(f'Stopping as changes in the last 5 generations are too small: {delta}');\n",
    "        break\n",
    "\n",
    "    gen_hist_fit.append(np.mean([first_fit, second_fit]));\n",
    "\n",
    "    # TODO: Add crossover and mutation operations to generate a child\n",
    "    # Placeholder for mutation and crossover operations\n",
    "    child = first_parent  # Replace this with actual mutation and crossover logic\n",
    "        \n",
    "    # Encode the child again and replace the least fit individual\n",
    "    encoded_child = [encode_func(num) for num in child]\n",
    "    encoded_reps.append(encoded_child)  # Add the new child to the population\n",
    "\n",
    "    # Remove the least fit individual if necessary (this can be done using the fitness function)\n",
    "    if len(encoded_reps) > mu:\n",
    "        # Find and remove the least fit individual\n",
    "        least_fit_index = np.argmin([func(decode_func(rep)) for rep in encoded_reps])\n",
    "        del encoded_reps[least_fit_index]\n",
    "  \n",
    "  # Select fitest element after genetic process ends\n",
    "  decoded_reps: list[float] = [decode_func(rep) for rep in encoded_reps];\n",
    "  best_element: list[list[int]] = selec_func(decoded_reps, func);\n",
    "  print(f'Best element is: {best_element}, completed in {generations} generations.');\n",
    "\n",
    "  return best_element;"
   ]
  }
 ],
 "metadata": {
  "kernelspec": {
   "display_name": "Python 3",
   "language": "python",
   "name": "python3"
  },
  "language_info": {
   "codemirror_mode": {
    "name": "ipython",
    "version": 3
   },
   "file_extension": ".py",
   "mimetype": "text/x-python",
   "name": "python",
   "nbconvert_exporter": "python",
   "pygments_lexer": "ipython3",
   "version": "3.10.8"
  }
 },
 "nbformat": 4,
 "nbformat_minor": 2
}
